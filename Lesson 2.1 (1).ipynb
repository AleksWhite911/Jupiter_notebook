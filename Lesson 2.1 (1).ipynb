{
 "cells": [
  {
   "cell_type": "markdown",
   "id": "12a7bc2c",
   "metadata": {},
   "source": [
    "#    Задание 1\n",
    "Создайте numpy array с элементами от числа N до 0 (например, для N = 10 это будет array([9, 8, 7, 6, 5, 4, 3, 2, 1, 0]))."
   ]
  },
  {
   "cell_type": "code",
   "execution_count": 4,
   "id": "838308b8",
   "metadata": {},
   "outputs": [],
   "source": [
    " import numpy as np"
   ]
  },
  {
   "cell_type": "code",
   "execution_count": 5,
   "id": "ec91bf72",
   "metadata": {},
   "outputs": [],
   "source": [
    "x = np.array([1, 2, 3])\n",
    "y = np.array([4, 5, 6])"
   ]
  },
  {
   "cell_type": "code",
   "execution_count": 6,
   "id": "bca19eb0",
   "metadata": {},
   "outputs": [
    {
     "name": "stdout",
     "output_type": "stream",
     "text": [
      "Введите число 11\n",
      "[11. 10.  9.  8.  7.  6.  5.  4.  3.  2.  1.]\n"
     ]
    }
   ],
   "source": [
    "N = int(input(\"Введите число \"))\n",
    "array = np.array([])\n",
    "while N != 0:\n",
    "    array = np.append(array, N)\n",
    "    N = N - 1\n",
    "print(array)"
   ]
  },
  {
   "cell_type": "markdown",
   "id": "53567437",
   "metadata": {},
   "source": [
    "# Задание 2\n",
    "Создайте диагональную матрицу с элементами от N до 0. Посчитайте сумму ее значений на диагонали."
   ]
  },
  {
   "cell_type": "code",
   "execution_count": 9,
   "id": "5adda052",
   "metadata": {},
   "outputs": [
    {
     "name": "stdout",
     "output_type": "stream",
     "text": [
      "Введите количество элементов в главной диагонали: 5\n",
      "10\n"
     ]
    }
   ],
   "source": [
    "number = int(input(\"Введите количество элементов в главной диагонали: \"))\n",
    "#Создаём диагональную матрицу от 0 до number - 1\n",
    "matrix = np.diag(np.arange(number))\n",
    "#Выводим сумму главной диагонали матрицы\n",
    "print(sum(np.diag(matrix)))\n"
   ]
  },
  {
   "cell_type": "markdown",
   "id": "cdf2111e",
   "metadata": {},
   "source": [
    "# Задание 3\n",
    "Решите систему уравнений:\n",
    "4x + 2y + z = 4\n",
    "x + 3y = 12\n",
    "5y + 4z = -3"
   ]
  },
  {
   "cell_type": "code",
   "execution_count": 19,
   "id": "93a01c18",
   "metadata": {},
   "outputs": [],
   "source": [
    "a = np.array([ [4, 2, 1], [1, 3, 0], [0, 5, 4] ])\n",
    "b = np.array( [4, 12, -3] )"
   ]
  },
  {
   "cell_type": "code",
   "execution_count": 17,
   "id": "aec4daf5",
   "metadata": {},
   "outputs": [],
   "source": [
    "from numpy import linalg"
   ]
  },
  {
   "cell_type": "code",
   "execution_count": 20,
   "id": "b0567454",
   "metadata": {},
   "outputs": [
    {
     "data": {
      "text/plain": [
       "array([ 0.46666667,  3.84444444, -5.55555556])"
      ]
     },
     "execution_count": 20,
     "metadata": {},
     "output_type": "execute_result"
    }
   ],
   "source": [
    "linalg.solve(a, b)"
   ]
  },
  {
   "cell_type": "code",
   "execution_count": 8,
   "id": "54710610",
   "metadata": {},
   "outputs": [
    {
     "data": {
      "text/plain": [
       "array([0.25, 0.4 , 0.5 ])"
      ]
     },
     "execution_count": 8,
     "metadata": {},
     "output_type": "execute_result"
    }
   ],
   "source": [
    "x / y"
   ]
  }
 ],
 "metadata": {
  "kernelspec": {
   "display_name": "Python 3",
   "language": "python",
   "name": "python3"
  },
  "language_info": {
   "codemirror_mode": {
    "name": "ipython",
    "version": 3
   },
   "file_extension": ".py",
   "mimetype": "text/x-python",
   "name": "python",
   "nbconvert_exporter": "python",
   "pygments_lexer": "ipython3",
   "version": "3.8.8"
  }
 },
 "nbformat": 4,
 "nbformat_minor": 5
}
