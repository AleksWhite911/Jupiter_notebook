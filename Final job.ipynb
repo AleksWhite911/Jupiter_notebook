{
 "cells": [
  {
   "cell_type": "code",
   "execution_count": 107,
   "id": "70a6a99b",
   "metadata": {},
   "outputs": [],
   "source": [
    "import pandas as pd\n",
    "import seaborn as sns\n",
    "import scipy.stats as stats\n",
    "import matplotlib.pyplot as plt"
   ]
  },
  {
   "cell_type": "code",
   "execution_count": 57,
   "id": "2aed0285",
   "metadata": {},
   "outputs": [],
   "source": [
    "data = pd.read_csv('HR.csv')"
   ]
  },
  {
   "cell_type": "code",
   "execution_count": 58,
   "id": "21ea0ef9",
   "metadata": {},
   "outputs": [
    {
     "data": {
      "text/html": [
       "<div>\n",
       "<style scoped>\n",
       "    .dataframe tbody tr th:only-of-type {\n",
       "        vertical-align: middle;\n",
       "    }\n",
       "\n",
       "    .dataframe tbody tr th {\n",
       "        vertical-align: top;\n",
       "    }\n",
       "\n",
       "    .dataframe thead th {\n",
       "        text-align: right;\n",
       "    }\n",
       "</style>\n",
       "<table border=\"1\" class=\"dataframe\">\n",
       "  <thead>\n",
       "    <tr style=\"text-align: right;\">\n",
       "      <th></th>\n",
       "      <th>satisfaction_level</th>\n",
       "      <th>last_evaluation</th>\n",
       "      <th>number_project</th>\n",
       "      <th>average_montly_hours</th>\n",
       "      <th>time_spend_company</th>\n",
       "      <th>Work_accident</th>\n",
       "      <th>left</th>\n",
       "      <th>promotion_last_5years</th>\n",
       "      <th>department</th>\n",
       "      <th>salary</th>\n",
       "    </tr>\n",
       "  </thead>\n",
       "  <tbody>\n",
       "    <tr>\n",
       "      <th>0</th>\n",
       "      <td>0.38</td>\n",
       "      <td>0.53</td>\n",
       "      <td>2</td>\n",
       "      <td>157</td>\n",
       "      <td>3</td>\n",
       "      <td>0</td>\n",
       "      <td>1</td>\n",
       "      <td>0</td>\n",
       "      <td>sales</td>\n",
       "      <td>low</td>\n",
       "    </tr>\n",
       "    <tr>\n",
       "      <th>1</th>\n",
       "      <td>0.80</td>\n",
       "      <td>0.86</td>\n",
       "      <td>5</td>\n",
       "      <td>262</td>\n",
       "      <td>6</td>\n",
       "      <td>0</td>\n",
       "      <td>1</td>\n",
       "      <td>0</td>\n",
       "      <td>sales</td>\n",
       "      <td>medium</td>\n",
       "    </tr>\n",
       "    <tr>\n",
       "      <th>2</th>\n",
       "      <td>0.11</td>\n",
       "      <td>0.88</td>\n",
       "      <td>7</td>\n",
       "      <td>272</td>\n",
       "      <td>4</td>\n",
       "      <td>0</td>\n",
       "      <td>1</td>\n",
       "      <td>0</td>\n",
       "      <td>sales</td>\n",
       "      <td>medium</td>\n",
       "    </tr>\n",
       "    <tr>\n",
       "      <th>3</th>\n",
       "      <td>0.72</td>\n",
       "      <td>0.87</td>\n",
       "      <td>5</td>\n",
       "      <td>223</td>\n",
       "      <td>5</td>\n",
       "      <td>0</td>\n",
       "      <td>1</td>\n",
       "      <td>0</td>\n",
       "      <td>sales</td>\n",
       "      <td>low</td>\n",
       "    </tr>\n",
       "    <tr>\n",
       "      <th>4</th>\n",
       "      <td>0.37</td>\n",
       "      <td>0.52</td>\n",
       "      <td>2</td>\n",
       "      <td>159</td>\n",
       "      <td>3</td>\n",
       "      <td>0</td>\n",
       "      <td>1</td>\n",
       "      <td>0</td>\n",
       "      <td>sales</td>\n",
       "      <td>low</td>\n",
       "    </tr>\n",
       "  </tbody>\n",
       "</table>\n",
       "</div>"
      ],
      "text/plain": [
       "   satisfaction_level  last_evaluation  number_project  average_montly_hours  \\\n",
       "0                0.38             0.53               2                   157   \n",
       "1                0.80             0.86               5                   262   \n",
       "2                0.11             0.88               7                   272   \n",
       "3                0.72             0.87               5                   223   \n",
       "4                0.37             0.52               2                   159   \n",
       "\n",
       "   time_spend_company  Work_accident  left  promotion_last_5years department  \\\n",
       "0                   3              0     1                      0      sales   \n",
       "1                   6              0     1                      0      sales   \n",
       "2                   4              0     1                      0      sales   \n",
       "3                   5              0     1                      0      sales   \n",
       "4                   3              0     1                      0      sales   \n",
       "\n",
       "   salary  \n",
       "0     low  \n",
       "1  medium  \n",
       "2  medium  \n",
       "3     low  \n",
       "4     low  "
      ]
     },
     "execution_count": 58,
     "metadata": {},
     "output_type": "execute_result"
    }
   ],
   "source": [
    "data.head()"
   ]
  },
  {
   "cell_type": "code",
   "execution_count": 59,
   "id": "e29befca",
   "metadata": {},
   "outputs": [
    {
     "data": {
      "text/plain": [
       "satisfaction_level        0.612834\n",
       "last_evaluation           0.716102\n",
       "number_project            3.803054\n",
       "average_montly_hours    201.050337\n",
       "time_spend_company        3.498233\n",
       "dtype: float64"
      ]
     },
     "execution_count": 59,
     "metadata": {},
     "output_type": "execute_result"
    }
   ],
   "source": [
    "#2 Задание\n",
    "#Среднее\n",
    "data[['satisfaction_level', 'last_evaluation', 'number_project','average_montly_hours', 'time_spend_company']].mean()"
   ]
  },
  {
   "cell_type": "code",
   "execution_count": 60,
   "id": "8303fd7d",
   "metadata": {},
   "outputs": [
    {
     "data": {
      "text/plain": [
       "satisfaction_level        0.64\n",
       "last_evaluation           0.72\n",
       "number_project            4.00\n",
       "average_montly_hours    200.00\n",
       "time_spend_company        3.00\n",
       "dtype: float64"
      ]
     },
     "execution_count": 60,
     "metadata": {},
     "output_type": "execute_result"
    }
   ],
   "source": [
    "#Медиана\n",
    "data[['satisfaction_level', 'last_evaluation', 'number_project','average_montly_hours', 'time_spend_company']].median()"
   ]
  },
  {
   "cell_type": "code",
   "execution_count": 61,
   "id": "ffcbdcb1",
   "metadata": {},
   "outputs": [
    {
     "data": {
      "text/html": [
       "<div>\n",
       "<style scoped>\n",
       "    .dataframe tbody tr th:only-of-type {\n",
       "        vertical-align: middle;\n",
       "    }\n",
       "\n",
       "    .dataframe tbody tr th {\n",
       "        vertical-align: top;\n",
       "    }\n",
       "\n",
       "    .dataframe thead th {\n",
       "        text-align: right;\n",
       "    }\n",
       "</style>\n",
       "<table border=\"1\" class=\"dataframe\">\n",
       "  <thead>\n",
       "    <tr style=\"text-align: right;\">\n",
       "      <th></th>\n",
       "      <th>satisfaction_level</th>\n",
       "      <th>last_evaluation</th>\n",
       "      <th>number_project</th>\n",
       "      <th>average_montly_hours</th>\n",
       "      <th>time_spend_company</th>\n",
       "    </tr>\n",
       "  </thead>\n",
       "  <tbody>\n",
       "    <tr>\n",
       "      <th>0</th>\n",
       "      <td>0.1</td>\n",
       "      <td>0.55</td>\n",
       "      <td>4.0</td>\n",
       "      <td>135</td>\n",
       "      <td>3.0</td>\n",
       "    </tr>\n",
       "    <tr>\n",
       "      <th>1</th>\n",
       "      <td>NaN</td>\n",
       "      <td>NaN</td>\n",
       "      <td>NaN</td>\n",
       "      <td>156</td>\n",
       "      <td>NaN</td>\n",
       "    </tr>\n",
       "  </tbody>\n",
       "</table>\n",
       "</div>"
      ],
      "text/plain": [
       "   satisfaction_level  last_evaluation  number_project  average_montly_hours  \\\n",
       "0                 0.1             0.55             4.0                   135   \n",
       "1                 NaN              NaN             NaN                   156   \n",
       "\n",
       "   time_spend_company  \n",
       "0                 3.0  \n",
       "1                 NaN  "
      ]
     },
     "execution_count": 61,
     "metadata": {},
     "output_type": "execute_result"
    }
   ],
   "source": [
    "#Мода\n",
    "data[['satisfaction_level', 'last_evaluation', 'number_project', 'average_montly_hours', 'time_spend_company']].mode()"
   ]
  },
  {
   "cell_type": "code",
   "execution_count": 62,
   "id": "43dafb9c",
   "metadata": {},
   "outputs": [
    {
     "data": {
      "text/plain": [
       "satisfaction_level       0.09\n",
       "last_evaluation          0.36\n",
       "number_project           2.00\n",
       "average_montly_hours    96.00\n",
       "time_spend_company       2.00\n",
       "dtype: float64"
      ]
     },
     "execution_count": 62,
     "metadata": {},
     "output_type": "execute_result"
    }
   ],
   "source": [
    "#Минимальные значения\n",
    "data[['satisfaction_level', 'last_evaluation', 'number_project', 'average_montly_hours', 'time_spend_company']].min()"
   ]
  },
  {
   "cell_type": "code",
   "execution_count": 63,
   "id": "f01a6594",
   "metadata": {},
   "outputs": [
    {
     "data": {
      "text/plain": [
       "satisfaction_level        1.0\n",
       "last_evaluation           1.0\n",
       "number_project            7.0\n",
       "average_montly_hours    310.0\n",
       "time_spend_company       10.0\n",
       "dtype: float64"
      ]
     },
     "execution_count": 63,
     "metadata": {},
     "output_type": "execute_result"
    }
   ],
   "source": [
    "#Максимальные значения\n",
    "data[['satisfaction_level', 'last_evaluation', 'number_project', 'average_montly_hours', 'time_spend_company']].max()"
   ]
  },
  {
   "cell_type": "code",
   "execution_count": 64,
   "id": "cc5f79ff",
   "metadata": {},
   "outputs": [
    {
     "data": {
      "text/plain": [
       "satisfaction_level       0.248631\n",
       "last_evaluation          0.171169\n",
       "number_project           1.232592\n",
       "average_montly_hours    49.943099\n",
       "time_spend_company       1.460136\n",
       "dtype: float64"
      ]
     },
     "execution_count": 64,
     "metadata": {},
     "output_type": "execute_result"
    }
   ],
   "source": [
    "#Среднее отклонение\n",
    "data[['satisfaction_level', 'last_evaluation', 'number_project', 'average_montly_hours', 'time_spend_company']].std()"
   ]
  },
  {
   "cell_type": "code",
   "execution_count": 65,
   "id": "d6604f5e",
   "metadata": {},
   "outputs": [
    {
     "name": "stdout",
     "output_type": "stream",
     "text": [
      "                      satisfaction_level  last_evaluation  number_project  \\\n",
      "satisfaction_level              1.000000         0.105021       -0.142970   \n",
      "last_evaluation                 0.105021         1.000000        0.349333   \n",
      "number_project                 -0.142970         0.349333        1.000000   \n",
      "average_montly_hours           -0.020048         0.339742        0.417211   \n",
      "time_spend_company             -0.100866         0.131591        0.196786   \n",
      "\n",
      "                      average_montly_hours  time_spend_company  \n",
      "satisfaction_level               -0.020048           -0.100866  \n",
      "last_evaluation                   0.339742            0.131591  \n",
      "number_project                    0.417211            0.196786  \n",
      "average_montly_hours              1.000000            0.127755  \n",
      "time_spend_company                0.127755            1.000000  \n"
     ]
    }
   ],
   "source": [
    "perem = data[['satisfaction_level', 'last_evaluation', 'number_project', 'average_montly_hours', 'time_spend_company']].corr()\n",
    "print(perem)"
   ]
  },
  {
   "cell_type": "code",
   "execution_count": 66,
   "id": "7cb3fbfb",
   "metadata": {},
   "outputs": [
    {
     "data": {
      "text/plain": [
       "<AxesSubplot:>"
      ]
     },
     "execution_count": 66,
     "metadata": {},
     "output_type": "execute_result"
    },
    {
     "data": {
      "image/png": "[encoded data removed]",
      "text/plain": [
       "<Figure size 432x288 with 2 Axes>"
      ]
     },
     "metadata": {
      "needs_background": "light"
     },
     "output_type": "display_data"
    }
   ],
   "source": [
    "perem = data[['satisfaction_level', 'last_evaluation', 'number_project', 'average_montly_hours', 'time_spend_company']].corr()\n",
    "sns.heatmap(perem,\n",
    "            xticklabels=perem.columns.values,\n",
    "            yticklabels=perem.columns.values)"
   ]
  },
  {
   "cell_type": "code",
   "execution_count": 67,
   "id": "324f1f41",
   "metadata": {},
   "outputs": [],
   "source": [
    "#Очень странно, но две наименее скоррелированые переменные, это satisfaction_level - number_project\n",
    "#Самые две скоррелированные переменные это average_montly_hours - number_project, что крайне логично"
   ]
  },
  {
   "cell_type": "code",
   "execution_count": 68,
   "id": "6c34efac",
   "metadata": {},
   "outputs": [],
   "source": [
    "#Для того чтобы (грамотно!) выполнить 3 задание надо создать новый датафрейм исключающий уволившихся сотрудников"
   ]
  },
  {
   "cell_type": "code",
   "execution_count": 69,
   "id": "a28df303",
   "metadata": {},
   "outputs": [],
   "source": [
    "data_not_left = data.loc[data['left'] != 1]"
   ]
  },
  {
   "cell_type": "code",
   "execution_count": 70,
   "id": "0cdd0d8e",
   "metadata": {},
   "outputs": [
    {
     "data": {
      "text/plain": [
       "0    11428\n",
       "Name: left, dtype: int64"
      ]
     },
     "execution_count": 70,
     "metadata": {},
     "output_type": "execute_result"
    }
   ],
   "source": [
    "data_not_left['left'].value_counts()"
   ]
  },
  {
   "cell_type": "code",
   "execution_count": 71,
   "id": "28d394c8",
   "metadata": {},
   "outputs": [
    {
     "data": {
      "text/plain": [
       "sales          3126\n",
       "technical      2023\n",
       "support        1674\n",
       "IT              954\n",
       "product_mng     704\n",
       "RandD           666\n",
       "marketing       655\n",
       "accounting      563\n",
       "management      539\n",
       "hr              524\n",
       "Name: department, dtype: int64"
      ]
     },
     "execution_count": 71,
     "metadata": {},
     "output_type": "execute_result"
    }
   ],
   "source": [
    "data_not_left['department'].value_counts()"
   ]
  },
  {
   "cell_type": "code",
   "execution_count": 72,
   "id": "0a5f97d2",
   "metadata": {},
   "outputs": [],
   "source": [
    "# В 5 задании аналогично беру сотрудников работающих в данный момент времени"
   ]
  },
  {
   "cell_type": "code",
   "execution_count": 73,
   "id": "ebf6898f",
   "metadata": {},
   "outputs": [
    {
     "data": {
      "text/plain": [
       "<AxesSubplot:>"
      ]
     },
     "execution_count": 73,
     "metadata": {},
     "output_type": "execute_result"
    },
    {
     "data": {
      "image/png": "[encoded data removed]",
      "text/plain": [
       "<Figure size 432x288 with 1 Axes>"
      ]
     },
     "metadata": {
      "needs_background": "light"
     },
     "output_type": "display_data"
    }
   ],
   "source": [
    "data_not_left['salary'].hist()"
   ]
  },
  {
   "cell_type": "code",
   "execution_count": 74,
   "id": "8c8d0329",
   "metadata": {},
   "outputs": [],
   "source": [
    "#6 задание "
   ]
  },
  {
   "cell_type": "code",
   "execution_count": 75,
   "id": "d1da6308",
   "metadata": {},
   "outputs": [
    {
     "data": {
      "text/plain": [
       "array(['sales', 'accounting', 'hr', 'technical', 'support', 'management',\n",
       "       'IT', 'product_mng', 'RandD', 'marketing'], dtype=object)"
      ]
     },
     "execution_count": 75,
     "metadata": {},
     "output_type": "execute_result"
    }
   ],
   "source": [
    "#Теперь мы знаем какие департаменты есть\n",
    "data_not_left['department'].unique()"
   ]
  },
  {
   "cell_type": "code",
   "execution_count": 76,
   "id": "54c12c13",
   "metadata": {},
   "outputs": [],
   "source": [
    "data_sales = data_not_left.loc[data['department'] == 'sales']"
   ]
  },
  {
   "cell_type": "code",
   "execution_count": 77,
   "id": "f6c769e5",
   "metadata": {},
   "outputs": [
    {
     "data": {
      "text/plain": [
       "<AxesSubplot:>"
      ]
     },
     "execution_count": 77,
     "metadata": {},
     "output_type": "execute_result"
    },
    {
     "data": {
      "image/png": "[encoded data removed]",
      "text/plain": [
       "<Figure size 432x288 with 1 Axes>"
      ]
     },
     "metadata": {
      "needs_background": "light"
     },
     "output_type": "display_data"
    }
   ],
   "source": [
    "data_sales['salary'].hist()"
   ]
  },
  {
   "cell_type": "code",
   "execution_count": 78,
   "id": "a2218b27",
   "metadata": {},
   "outputs": [],
   "source": [
    "data_accounting = data_not_left.loc[data['department'] == 'accounting']"
   ]
  },
  {
   "cell_type": "code",
   "execution_count": 79,
   "id": "eadd6f8f",
   "metadata": {},
   "outputs": [
    {
     "data": {
      "text/plain": [
       "array(['accounting'], dtype=object)"
      ]
     },
     "execution_count": 79,
     "metadata": {},
     "output_type": "execute_result"
    }
   ],
   "source": [
    "data_accounting['department'].unique()"
   ]
  },
  {
   "cell_type": "code",
   "execution_count": 80,
   "id": "15f033e1",
   "metadata": {},
   "outputs": [
    {
     "data": {
      "text/plain": [
       "<AxesSubplot:>"
      ]
     },
     "execution_count": 80,
     "metadata": {},
     "output_type": "execute_result"
    },
    {
     "data": {
      "image/png": "[encoded data removed]",
      "text/plain": [
       "<Figure size 432x288 with 1 Axes>"
      ]
     },
     "metadata": {
      "needs_background": "light"
     },
     "output_type": "display_data"
    }
   ],
   "source": [
    "data_accounting['salary'].hist()"
   ]
  },
  {
   "cell_type": "code",
   "execution_count": 81,
   "id": "f0f8b4de",
   "metadata": {},
   "outputs": [],
   "source": [
    "data_hr = data_not_left.loc[data['department'] == 'hr']"
   ]
  },
  {
   "cell_type": "code",
   "execution_count": 82,
   "id": "7acdf8ae",
   "metadata": {},
   "outputs": [
    {
     "data": {
      "text/plain": [
       "array(['hr'], dtype=object)"
      ]
     },
     "execution_count": 82,
     "metadata": {},
     "output_type": "execute_result"
    }
   ],
   "source": [
    "data_hr['department'].unique()"
   ]
  },
  {
   "cell_type": "code",
   "execution_count": 83,
   "id": "f65a4cca",
   "metadata": {},
   "outputs": [
    {
     "data": {
      "text/plain": [
       "<AxesSubplot:>"
      ]
     },
     "execution_count": 83,
     "metadata": {},
     "output_type": "execute_result"
    },
    {
     "data": {
      "image/png": "[encoded data removed]",
      "text/plain": [
       "<Figure size 432x288 with 1 Axes>"
      ]
     },
     "metadata": {
      "needs_background": "light"
     },
     "output_type": "display_data"
    }
   ],
   "source": [
    "data_hr['salary'].hist()"
   ]
  },
  {
   "cell_type": "code",
   "execution_count": 84,
   "id": "6310847c",
   "metadata": {},
   "outputs": [],
   "source": [
    "data_technical = data_not_left.loc[data['department'] == 'technical']"
   ]
  },
  {
   "cell_type": "code",
   "execution_count": 85,
   "id": "533d73b0",
   "metadata": {},
   "outputs": [
    {
     "data": {
      "text/plain": [
       "array(['technical'], dtype=object)"
      ]
     },
     "execution_count": 85,
     "metadata": {},
     "output_type": "execute_result"
    }
   ],
   "source": [
    "data_technical['department'].unique()"
   ]
  },
  {
   "cell_type": "code",
   "execution_count": 86,
   "id": "6199c5e5",
   "metadata": {},
   "outputs": [
    {
     "data": {
      "text/plain": [
       "<AxesSubplot:>"
      ]
     },
     "execution_count": 86,
     "metadata": {},
     "output_type": "execute_result"
    },
    {
     "data": {
      "image/png": "[encoded data removed]",
      "text/plain": [
       "<Figure size 432x288 with 1 Axes>"
      ]
     },
     "metadata": {
      "needs_background": "light"
     },
     "output_type": "display_data"
    }
   ],
   "source": [
    "# Простите, но почему технарям так мало платят!?\n",
    "data_technical['salary'].hist()"
   ]
  },
  {
   "cell_type": "code",
   "execution_count": 87,
   "id": "1c96db07",
   "metadata": {},
   "outputs": [],
   "source": [
    "data_support = data_not_left.loc[data['department'] == 'support']"
   ]
  },
  {
   "cell_type": "code",
   "execution_count": 88,
   "id": "fc6a0a58",
   "metadata": {},
   "outputs": [
    {
     "data": {
      "text/plain": [
       "array(['support'], dtype=object)"
      ]
     },
     "execution_count": 88,
     "metadata": {},
     "output_type": "execute_result"
    }
   ],
   "source": [
    "data_support['department'].unique()"
   ]
  },
  {
   "cell_type": "code",
   "execution_count": 89,
   "id": "79ae573a",
   "metadata": {},
   "outputs": [
    {
     "data": {
      "text/plain": [
       "<AxesSubplot:>"
      ]
     },
     "execution_count": 89,
     "metadata": {},
     "output_type": "execute_result"
    },
    {
     "data": {
      "image/png": "[encoded data removed]",
      "text/plain": [
       "<Figure size 432x288 with 1 Axes>"
      ]
     },
     "metadata": {
      "needs_background": "light"
     },
     "output_type": "display_data"
    }
   ],
   "source": [
    "data_support['salary'].hist()"
   ]
  },
  {
   "cell_type": "code",
   "execution_count": 90,
   "id": "72b10bae",
   "metadata": {},
   "outputs": [],
   "source": [
    "data_managment = data_not_left.loc[data['department'] == 'management']"
   ]
  },
  {
   "cell_type": "code",
   "execution_count": 91,
   "id": "bd318f46",
   "metadata": {},
   "outputs": [
    {
     "data": {
      "text/plain": [
       "array(['management'], dtype=object)"
      ]
     },
     "execution_count": 91,
     "metadata": {},
     "output_type": "execute_result"
    }
   ],
   "source": [
    "data_managment['department'].unique()"
   ]
  },
  {
   "cell_type": "code",
   "execution_count": 92,
   "id": "02fb8cb1",
   "metadata": {},
   "outputs": [
    {
     "data": {
      "text/plain": [
       "<AxesSubplot:>"
      ]
     },
     "execution_count": 92,
     "metadata": {},
     "output_type": "execute_result"
    },
    {
     "data": {
      "image/png": "[encoded data removed]",
      "text/plain": [
       "<Figure size 432x288 with 1 Axes>"
      ]
     },
     "metadata": {
      "needs_background": "light"
     },
     "output_type": "display_data"
    }
   ],
   "source": [
    "data_managment['salary'].hist()"
   ]
  },
  {
   "cell_type": "code",
   "execution_count": 93,
   "id": "763d9b5e",
   "metadata": {},
   "outputs": [],
   "source": [
    "data_it = data_not_left.loc[data['department'] == 'IT']"
   ]
  },
  {
   "cell_type": "code",
   "execution_count": 94,
   "id": "7b609254",
   "metadata": {},
   "outputs": [
    {
     "data": {
      "text/plain": [
       "<AxesSubplot:>"
      ]
     },
     "execution_count": 94,
     "metadata": {},
     "output_type": "execute_result"
    },
    {
     "data": {
      "image/png": "[encoded data removed]",
      "text/plain": [
       "<Figure size 432x288 with 1 Axes>"
      ]
     },
     "metadata": {
      "needs_background": "light"
     },
     "output_type": "display_data"
    }
   ],
   "source": [
    "data_it['salary'].hist()"
   ]
  },
  {
   "cell_type": "code",
   "execution_count": 95,
   "id": "2e7bdad1",
   "metadata": {},
   "outputs": [],
   "source": [
    "data_product_mng = data_not_left.loc[data['department'] == 'product_mng']"
   ]
  },
  {
   "cell_type": "code",
   "execution_count": 96,
   "id": "f44439f0",
   "metadata": {},
   "outputs": [
    {
     "data": {
      "text/plain": [
       "<AxesSubplot:>"
      ]
     },
     "execution_count": 96,
     "metadata": {},
     "output_type": "execute_result"
    },
    {
     "data": {
      "image/png": "[encoded data removed]",
      "text/plain": [
       "<Figure size 432x288 with 1 Axes>"
      ]
     },
     "metadata": {
      "needs_background": "light"
     },
     "output_type": "display_data"
    }
   ],
   "source": [
    "data_product_mng['salary'].hist()"
   ]
  },
  {
   "cell_type": "code",
   "execution_count": 97,
   "id": "d7999b49",
   "metadata": {},
   "outputs": [],
   "source": [
    "data_randd = data_not_left.loc[data['department'] == 'RandD']"
   ]
  },
  {
   "cell_type": "code",
   "execution_count": 98,
   "id": "7d0428de",
   "metadata": {},
   "outputs": [
    {
     "data": {
      "text/plain": [
       "<AxesSubplot:>"
      ]
     },
     "execution_count": 98,
     "metadata": {},
     "output_type": "execute_result"
    },
    {
     "data": {
      "image/png": "[encoded data removed]",
      "text/plain": [
       "<Figure size 432x288 with 1 Axes>"
      ]
     },
     "metadata": {
      "needs_background": "light"
     },
     "output_type": "display_data"
    }
   ],
   "source": [
    "data_randd['salary'].hist()"
   ]
  },
  {
   "cell_type": "code",
   "execution_count": 99,
   "id": "b8ac9fcf",
   "metadata": {},
   "outputs": [],
   "source": [
    "data_marketing = data_not_left.loc[data['department'] == 'marketing']"
   ]
  },
  {
   "cell_type": "code",
   "execution_count": 100,
   "id": "6c610d30",
   "metadata": {},
   "outputs": [
    {
     "data": {
      "text/plain": [
       "<AxesSubplot:>"
      ]
     },
     "execution_count": 100,
     "metadata": {},
     "output_type": "execute_result"
    },
    {
     "data": {
      "image/png": "[encoded data removed]",
      "text/plain": [
       "<Figure size 432x288 with 1 Axes>"
      ]
     },
     "metadata": {
      "needs_background": "light"
     },
     "output_type": "display_data"
    }
   ],
   "source": [
    "data_marketing['salary'].hist()"
   ]
  },
  {
   "cell_type": "code",
   "execution_count": 101,
   "id": "109003cb",
   "metadata": {},
   "outputs": [],
   "source": [
    "#7 задание (Для полноты картины стоит взять полный датафрейм и с уволившимися сотрудниками)"
   ]
  },
  {
   "cell_type": "code",
   "execution_count": 102,
   "id": "237ba110",
   "metadata": {},
   "outputs": [],
   "source": [
    "data_hours = data[['average_montly_hours', 'salary']]"
   ]
  },
  {
   "cell_type": "code",
   "execution_count": 103,
   "id": "78e3f352",
   "metadata": {},
   "outputs": [
    {
     "data": {
      "text/html": [
       "<div>\n",
       "<style scoped>\n",
       "    .dataframe tbody tr th:only-of-type {\n",
       "        vertical-align: middle;\n",
       "    }\n",
       "\n",
       "    .dataframe tbody tr th {\n",
       "        vertical-align: top;\n",
       "    }\n",
       "\n",
       "    .dataframe thead th {\n",
       "        text-align: right;\n",
       "    }\n",
       "</style>\n",
       "<table border=\"1\" class=\"dataframe\">\n",
       "  <thead>\n",
       "    <tr style=\"text-align: right;\">\n",
       "      <th></th>\n",
       "      <th>average_montly_hours</th>\n",
       "    </tr>\n",
       "    <tr>\n",
       "      <th>salary</th>\n",
       "      <th></th>\n",
       "    </tr>\n",
       "  </thead>\n",
       "  <tbody>\n",
       "    <tr>\n",
       "      <th>high</th>\n",
       "      <td>199.867421</td>\n",
       "    </tr>\n",
       "    <tr>\n",
       "      <th>low</th>\n",
       "      <td>200.996583</td>\n",
       "    </tr>\n",
       "    <tr>\n",
       "      <th>medium</th>\n",
       "      <td>201.338349</td>\n",
       "    </tr>\n",
       "  </tbody>\n",
       "</table>\n",
       "</div>"
      ],
      "text/plain": [
       "        average_montly_hours\n",
       "salary                      \n",
       "high              199.867421\n",
       "low               200.996583\n",
       "medium            201.338349"
      ]
     },
     "execution_count": 103,
     "metadata": {},
     "output_type": "execute_result"
    }
   ],
   "source": [
    "#Среднее не подтверждает гипотезу 7 задания\n",
    "data_hours.groupby(['salary']).mean()"
   ]
  },
  {
   "cell_type": "code",
   "execution_count": 104,
   "id": "94068bb2",
   "metadata": {},
   "outputs": [
    {
     "data": {
      "text/html": [
       "<div>\n",
       "<style scoped>\n",
       "    .dataframe tbody tr th:only-of-type {\n",
       "        vertical-align: middle;\n",
       "    }\n",
       "\n",
       "    .dataframe tbody tr th {\n",
       "        vertical-align: top;\n",
       "    }\n",
       "\n",
       "    .dataframe thead th {\n",
       "        text-align: right;\n",
       "    }\n",
       "</style>\n",
       "<table border=\"1\" class=\"dataframe\">\n",
       "  <thead>\n",
       "    <tr style=\"text-align: right;\">\n",
       "      <th></th>\n",
       "      <th>average_montly_hours</th>\n",
       "    </tr>\n",
       "    <tr>\n",
       "      <th>salary</th>\n",
       "      <th></th>\n",
       "    </tr>\n",
       "  </thead>\n",
       "  <tbody>\n",
       "    <tr>\n",
       "      <th>high</th>\n",
       "      <td>199</td>\n",
       "    </tr>\n",
       "    <tr>\n",
       "      <th>low</th>\n",
       "      <td>199</td>\n",
       "    </tr>\n",
       "    <tr>\n",
       "      <th>medium</th>\n",
       "      <td>201</td>\n",
       "    </tr>\n",
       "  </tbody>\n",
       "</table>\n",
       "</div>"
      ],
      "text/plain": [
       "        average_montly_hours\n",
       "salary                      \n",
       "high                     199\n",
       "low                      199\n",
       "medium                   201"
      ]
     },
     "execution_count": 104,
     "metadata": {},
     "output_type": "execute_result"
    }
   ],
   "source": [
    "#Медиана тоже не подтверждает гипотезу 7 задания\n",
    "data_hours.groupby(['salary']).median()"
   ]
  },
  {
   "cell_type": "code",
   "execution_count": 105,
   "id": "cbd2b7da",
   "metadata": {},
   "outputs": [],
   "source": [
    "#Для полной проверки проведём t-тест\n",
    "#Подготовим данные\n",
    "A = data.loc[data['salary'] == 'high']\n",
    "B = data.loc[data['salary'] == 'low']\n",
    "A = A['average_montly_hours']\n",
    "B = B['average_montly_hours']"
   ]
  },
  {
   "cell_type": "code",
   "execution_count": 110,
   "id": "f6b75c16",
   "metadata": {},
   "outputs": [
    {
     "name": "stdout",
     "output_type": "stream",
     "text": [
      "t_value: -0.7288680398062308 _pvalue:  0.4661023478267259\n"
     ]
    },
    {
     "data": {
      "image/png": "[encoded data removed]",
      "text/plain": [
       "<Figure size 432x288 with 1 Axes>"
      ]
     },
     "metadata": {
      "needs_background": "light"
     },
     "output_type": "display_data"
    }
   ],
   "source": [
    "#Проведём t-test для проверки нашей гипотезы\n",
    "#Нулевой гипотезой будем считать, что время проведённое на работе не отличается\n",
    "t, p = stats.ttest_ind(A, B)\n",
    "print('t_value:',t, '_pvalue: ',p)\n",
    "plt.hist(B, bins=15);\n",
    "plt.hist(A, bins=15);\n",
    "# Очень высокий p-value оснований отвергать нулевую гипотезу нет\n",
    "# Вывод: Гипотеза ложная"
   ]
  },
  {
   "cell_type": "code",
   "execution_count": 115,
   "id": "50a7798b",
   "metadata": {},
   "outputs": [
    {
     "data": {
      "text/html": [
       "<div>\n",
       "<style scoped>\n",
       "    .dataframe tbody tr th:only-of-type {\n",
       "        vertical-align: middle;\n",
       "    }\n",
       "\n",
       "    .dataframe tbody tr th {\n",
       "        vertical-align: top;\n",
       "    }\n",
       "\n",
       "    .dataframe thead th {\n",
       "        text-align: right;\n",
       "    }\n",
       "</style>\n",
       "<table border=\"1\" class=\"dataframe\">\n",
       "  <thead>\n",
       "    <tr style=\"text-align: right;\">\n",
       "      <th></th>\n",
       "      <th>satisfaction_level</th>\n",
       "      <th>last_evaluation</th>\n",
       "      <th>number_project</th>\n",
       "      <th>average_montly_hours</th>\n",
       "      <th>time_spend_company</th>\n",
       "      <th>Work_accident</th>\n",
       "      <th>left</th>\n",
       "      <th>promotion_last_5years</th>\n",
       "      <th>department</th>\n",
       "      <th>salary</th>\n",
       "    </tr>\n",
       "  </thead>\n",
       "  <tbody>\n",
       "    <tr>\n",
       "      <th>0</th>\n",
       "      <td>0.38</td>\n",
       "      <td>0.53</td>\n",
       "      <td>2</td>\n",
       "      <td>157</td>\n",
       "      <td>3</td>\n",
       "      <td>0</td>\n",
       "      <td>1</td>\n",
       "      <td>0</td>\n",
       "      <td>sales</td>\n",
       "      <td>low</td>\n",
       "    </tr>\n",
       "    <tr>\n",
       "      <th>1</th>\n",
       "      <td>0.80</td>\n",
       "      <td>0.86</td>\n",
       "      <td>5</td>\n",
       "      <td>262</td>\n",
       "      <td>6</td>\n",
       "      <td>0</td>\n",
       "      <td>1</td>\n",
       "      <td>0</td>\n",
       "      <td>sales</td>\n",
       "      <td>medium</td>\n",
       "    </tr>\n",
       "    <tr>\n",
       "      <th>2</th>\n",
       "      <td>0.11</td>\n",
       "      <td>0.88</td>\n",
       "      <td>7</td>\n",
       "      <td>272</td>\n",
       "      <td>4</td>\n",
       "      <td>0</td>\n",
       "      <td>1</td>\n",
       "      <td>0</td>\n",
       "      <td>sales</td>\n",
       "      <td>medium</td>\n",
       "    </tr>\n",
       "    <tr>\n",
       "      <th>3</th>\n",
       "      <td>0.72</td>\n",
       "      <td>0.87</td>\n",
       "      <td>5</td>\n",
       "      <td>223</td>\n",
       "      <td>5</td>\n",
       "      <td>0</td>\n",
       "      <td>1</td>\n",
       "      <td>0</td>\n",
       "      <td>sales</td>\n",
       "      <td>low</td>\n",
       "    </tr>\n",
       "    <tr>\n",
       "      <th>4</th>\n",
       "      <td>0.37</td>\n",
       "      <td>0.52</td>\n",
       "      <td>2</td>\n",
       "      <td>159</td>\n",
       "      <td>3</td>\n",
       "      <td>0</td>\n",
       "      <td>1</td>\n",
       "      <td>0</td>\n",
       "      <td>sales</td>\n",
       "      <td>low</td>\n",
       "    </tr>\n",
       "  </tbody>\n",
       "</table>\n",
       "</div>"
      ],
      "text/plain": [
       "   satisfaction_level  last_evaluation  number_project  average_montly_hours  \\\n",
       "0                0.38             0.53               2                   157   \n",
       "1                0.80             0.86               5                   262   \n",
       "2                0.11             0.88               7                   272   \n",
       "3                0.72             0.87               5                   223   \n",
       "4                0.37             0.52               2                   159   \n",
       "\n",
       "   time_spend_company  Work_accident  left  promotion_last_5years department  \\\n",
       "0                   3              0     1                      0      sales   \n",
       "1                   6              0     1                      0      sales   \n",
       "2                   4              0     1                      0      sales   \n",
       "3                   5              0     1                      0      sales   \n",
       "4                   3              0     1                      0      sales   \n",
       "\n",
       "   salary  \n",
       "0     low  \n",
       "1  medium  \n",
       "2  medium  \n",
       "3     low  \n",
       "4     low  "
      ]
     },
     "execution_count": 115,
     "metadata": {},
     "output_type": "execute_result"
    }
   ],
   "source": [
    "#8 Задание (датафрейм с не ушедшими сотрадниками был создан ранее)\n",
    "data_left = data.loc[data['left'] == 1]"
   ]
  },
  {
   "cell_type": "code",
   "execution_count": 125,
   "id": "3dcb3996",
   "metadata": {},
   "outputs": [
    {
     "name": "stdout",
     "output_type": "stream",
     "text": [
      "Доля сотрудников с повышением - 38.093333333333334\n",
      "Количество сотрудников всего 11428\n",
      "Количество сотрудников с повышением 300\n"
     ]
    }
   ],
   "source": [
    "# для начала будем расчитывать для работающих сотрудников\n",
    "data_not_left_promotion = data_not_left.loc[data['promotion_last_5years'] == 1]\n",
    "share = len(data_not_left) / len(data_not_left_promotion)\n",
    "print('Доля сотрудников с повышением - {0}'.format(share))\n",
    "print('Количество сотрудников всего', len(data_not_left))\n",
    "print('Количество сотрудников с повышением', len(data_not_left_promotion))"
   ]
  },
  {
   "cell_type": "code",
   "execution_count": 126,
   "id": "be808ec9",
   "metadata": {},
   "outputs": [
    {
     "data": {
      "text/plain": [
       "0.666809590479516"
      ]
     },
     "execution_count": 126,
     "metadata": {},
     "output_type": "execute_result"
    }
   ],
   "source": [
    "#Средняя степень удовлетворённости\n",
    "data_not_left['satisfaction_level'].mean()"
   ]
  },
  {
   "cell_type": "code",
   "execution_count": 127,
   "id": "ec01cceb",
   "metadata": {},
   "outputs": [
    {
     "data": {
      "text/plain": [
       "3.786664333216661"
      ]
     },
     "execution_count": 127,
     "metadata": {},
     "output_type": "execute_result"
    }
   ],
   "source": [
    "#Среднее количество проектов\n",
    "data_not_left['number_project'].mean()"
   ]
  },
  {
   "cell_type": "code",
   "execution_count": 128,
   "id": "bd015abd",
   "metadata": {},
   "outputs": [
    {
     "name": "stdout",
     "output_type": "stream",
     "text": [
      "Доля сотрудников с повышением - 187.94736842105263\n",
      "Количество сотрудников всего 3571\n",
      "Количество сотрудников с повышением 19\n"
     ]
    }
   ],
   "source": [
    "#Для ушедших сотрудников\n",
    "data_left_promotion = data_left.loc[data['promotion_last_5years'] == 1]\n",
    "share = len(data_left) / len(data_left_promotion)\n",
    "print('Доля сотрудников с повышением - {0}'.format(share))\n",
    "print('Количество сотрудников всего', len(data_left))\n",
    "print('Количество сотрудников с повышением', len(data_left_promotion))"
   ]
  },
  {
   "cell_type": "code",
   "execution_count": 129,
   "id": "3569deda",
   "metadata": {},
   "outputs": [
    {
     "data": {
      "text/plain": [
       "0.44009801176140917"
      ]
     },
     "execution_count": 129,
     "metadata": {},
     "output_type": "execute_result"
    }
   ],
   "source": [
    "#Средняя степень удовлетворённости\n",
    "data_left['satisfaction_level'].mean()"
   ]
  },
  {
   "cell_type": "code",
   "execution_count": 130,
   "id": "763f856c",
   "metadata": {},
   "outputs": [
    {
     "data": {
      "text/plain": [
       "3.8555026603192384"
      ]
     },
     "execution_count": 130,
     "metadata": {},
     "output_type": "execute_result"
    }
   ],
   "source": [
    "#Среднее количество проектов\n",
    "data_left['number_project'].mean()"
   ]
  },
  {
   "cell_type": "code",
   "execution_count": 135,
   "id": "948c7ef1",
   "metadata": {},
   "outputs": [],
   "source": [
    "#9 Задание\n",
    "#Создадим новый датафрейм удовлетворяющий условиям задания\n",
    "data_9_task = data[['satisfaction_level', 'last_evaluation', 'number_project', 'average_montly_hours', 'time_spend_company', 'Work_accident', 'promotion_last_5years']]"
   ]
  },
  {
   "cell_type": "code",
   "execution_count": 155,
   "id": "05b1640e",
   "metadata": {},
   "outputs": [
    {
     "data": {
      "text/plain": [
       "array([1, 1, 1, ..., 1, 1, 1], dtype=int64)"
      ]
     },
     "execution_count": 155,
     "metadata": {},
     "output_type": "execute_result"
    }
   ],
   "source": [
    "data_9_task_class = data['left'].to_numpy()\n",
    "data_9_task_class"
   ]
  },
  {
   "cell_type": "code",
   "execution_count": 166,
   "id": "d7173ca2",
   "metadata": {},
   "outputs": [],
   "source": [
    "from sklearn.model_selection import train_test_split\n",
    "X_train, X_test, y_train, y_test = train_test_split(data_9_task, data_9_task_class, test_size=0.2)"
   ]
  },
  {
   "cell_type": "code",
   "execution_count": 167,
   "id": "13e830ce",
   "metadata": {},
   "outputs": [],
   "source": [
    "from sklearn.discriminant_analysis import LinearDiscriminantAnalysis"
   ]
  },
  {
   "cell_type": "code",
   "execution_count": 168,
   "id": "1dbc7f63",
   "metadata": {},
   "outputs": [],
   "source": [
    "lda = LinearDiscriminantAnalysis()"
   ]
  },
  {
   "cell_type": "code",
   "execution_count": 169,
   "id": "900d0405",
   "metadata": {},
   "outputs": [
    {
     "data": {
      "text/plain": [
       "LinearDiscriminantAnalysis()"
      ]
     },
     "execution_count": 169,
     "metadata": {},
     "output_type": "execute_result"
    }
   ],
   "source": [
    "lda.fit(X_train, y_train)"
   ]
  },
  {
   "cell_type": "code",
   "execution_count": 170,
   "id": "1f11f214",
   "metadata": {},
   "outputs": [
    {
     "data": {
      "text/plain": [
       "array([0, 0, 0, ..., 0, 0, 0], dtype=int64)"
      ]
     },
     "execution_count": 170,
     "metadata": {},
     "output_type": "execute_result"
    }
   ],
   "source": [
    "lda.predict(X_test)"
   ]
  },
  {
   "cell_type": "code",
   "execution_count": 171,
   "id": "baaf1929",
   "metadata": {},
   "outputs": [],
   "source": [
    "result = pd.DataFrame([y_test, lda.predict(X_test)]).T"
   ]
  },
  {
   "cell_type": "code",
   "execution_count": 172,
   "id": "50afd3ed",
   "metadata": {},
   "outputs": [
    {
     "data": {
      "text/html": [
       "<div>\n",
       "<style scoped>\n",
       "    .dataframe tbody tr th:only-of-type {\n",
       "        vertical-align: middle;\n",
       "    }\n",
       "\n",
       "    .dataframe tbody tr th {\n",
       "        vertical-align: top;\n",
       "    }\n",
       "\n",
       "    .dataframe thead th {\n",
       "        text-align: right;\n",
       "    }\n",
       "</style>\n",
       "<table border=\"1\" class=\"dataframe\">\n",
       "  <thead>\n",
       "    <tr style=\"text-align: right;\">\n",
       "      <th></th>\n",
       "      <th>0</th>\n",
       "      <th>1</th>\n",
       "    </tr>\n",
       "  </thead>\n",
       "  <tbody>\n",
       "    <tr>\n",
       "      <th>0</th>\n",
       "      <td>0</td>\n",
       "      <td>0</td>\n",
       "    </tr>\n",
       "    <tr>\n",
       "      <th>1</th>\n",
       "      <td>0</td>\n",
       "      <td>0</td>\n",
       "    </tr>\n",
       "    <tr>\n",
       "      <th>2</th>\n",
       "      <td>0</td>\n",
       "      <td>0</td>\n",
       "    </tr>\n",
       "    <tr>\n",
       "      <th>3</th>\n",
       "      <td>1</td>\n",
       "      <td>0</td>\n",
       "    </tr>\n",
       "    <tr>\n",
       "      <th>4</th>\n",
       "      <td>0</td>\n",
       "      <td>1</td>\n",
       "    </tr>\n",
       "    <tr>\n",
       "      <th>...</th>\n",
       "      <td>...</td>\n",
       "      <td>...</td>\n",
       "    </tr>\n",
       "    <tr>\n",
       "      <th>2995</th>\n",
       "      <td>0</td>\n",
       "      <td>0</td>\n",
       "    </tr>\n",
       "    <tr>\n",
       "      <th>2996</th>\n",
       "      <td>0</td>\n",
       "      <td>0</td>\n",
       "    </tr>\n",
       "    <tr>\n",
       "      <th>2997</th>\n",
       "      <td>0</td>\n",
       "      <td>0</td>\n",
       "    </tr>\n",
       "    <tr>\n",
       "      <th>2998</th>\n",
       "      <td>0</td>\n",
       "      <td>0</td>\n",
       "    </tr>\n",
       "    <tr>\n",
       "      <th>2999</th>\n",
       "      <td>0</td>\n",
       "      <td>0</td>\n",
       "    </tr>\n",
       "  </tbody>\n",
       "</table>\n",
       "<p>3000 rows × 2 columns</p>\n",
       "</div>"
      ],
      "text/plain": [
       "      0  1\n",
       "0     0  0\n",
       "1     0  0\n",
       "2     0  0\n",
       "3     1  0\n",
       "4     0  1\n",
       "...  .. ..\n",
       "2995  0  0\n",
       "2996  0  0\n",
       "2997  0  0\n",
       "2998  0  0\n",
       "2999  0  0\n",
       "\n",
       "[3000 rows x 2 columns]"
      ]
     },
     "execution_count": 172,
     "metadata": {},
     "output_type": "execute_result"
    }
   ],
   "source": [
    "result"
   ]
  },
  {
   "cell_type": "code",
   "execution_count": 173,
   "id": "1be21a48",
   "metadata": {},
   "outputs": [],
   "source": [
    "from sklearn.metrics import accuracy_score"
   ]
  },
  {
   "cell_type": "code",
   "execution_count": 174,
   "id": "d077bfd2",
   "metadata": {},
   "outputs": [
    {
     "data": {
      "text/plain": [
       "0.756"
      ]
     },
     "execution_count": 174,
     "metadata": {},
     "output_type": "execute_result"
    }
   ],
   "source": [
    "#Точность предсказаний\n",
    "accuracy_score(y_test, lda.predict(X_test))"
   ]
  },
  {
   "cell_type": "code",
   "execution_count": 165,
   "id": "c259a173",
   "metadata": {},
   "outputs": [
    {
     "data": {
      "text/plain": [
       "array([[-4.50794885e+00,  7.22834038e-01, -2.49455196e-01,\n",
       "         4.35568517e-03,  2.17871823e-01, -1.10638892e+00,\n",
       "        -1.09636163e+00]])"
      ]
     },
     "execution_count": 165,
     "metadata": {},
     "output_type": "execute_result"
    }
   ],
   "source": [
    "lda.coef_"
   ]
  },
  {
   "cell_type": "code",
   "execution_count": null,
   "id": "9f0554d4",
   "metadata": {},
   "outputs": [],
   "source": []
  }
 ],
 "metadata": {
  "kernelspec": {
   "display_name": "Python 3",
   "language": "python",
   "name": "python3"
  },
  "language_info": {
   "codemirror_mode": {
    "name": "ipython",
    "version": 3
   },
   "file_extension": ".py",
   "mimetype": "text/x-python",
   "name": "python",
   "nbconvert_exporter": "python",
   "pygments_lexer": "ipython3",
   "version": "3.8.8"
  }
 },
 "nbformat": 4,
 "nbformat_minor": 5
}
